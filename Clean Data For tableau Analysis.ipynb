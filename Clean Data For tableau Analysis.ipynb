{
 "cells": [
  {
   "cell_type": "code",
   "execution_count": 1,
   "metadata": {},
   "outputs": [],
   "source": [
    "import pandas as pd\n",
    "import numpy as np"
   ]
  },
  {
   "cell_type": "code",
   "execution_count": 2,
   "metadata": {},
   "outputs": [],
   "source": [
    "listings_cleaned = pd.read_csv('listings_cleaned.csv', encoding='utf-8')"
   ]
  },
  {
   "cell_type": "code",
   "execution_count": 3,
   "metadata": {},
   "outputs": [],
   "source": [
    "calender = pd.read_excel('calendar.xlsx')"
   ]
  },
  {
   "cell_type": "code",
   "execution_count": 4,
   "metadata": {},
   "outputs": [
    {
     "data": {
      "text/html": [
       "<div>\n",
       "<style scoped>\n",
       "    .dataframe tbody tr th:only-of-type {\n",
       "        vertical-align: middle;\n",
       "    }\n",
       "\n",
       "    .dataframe tbody tr th {\n",
       "        vertical-align: top;\n",
       "    }\n",
       "\n",
       "    .dataframe thead th {\n",
       "        text-align: right;\n",
       "    }\n",
       "</style>\n",
       "<table border=\"1\" class=\"dataframe\">\n",
       "  <thead>\n",
       "    <tr style=\"text-align: right;\">\n",
       "      <th></th>\n",
       "      <th>listing_id</th>\n",
       "      <th>date</th>\n",
       "      <th>available</th>\n",
       "      <th>price</th>\n",
       "      <th>adjusted_price</th>\n",
       "      <th>minimum_nights</th>\n",
       "      <th>maximum_nights</th>\n",
       "    </tr>\n",
       "  </thead>\n",
       "  <tbody>\n",
       "    <tr>\n",
       "      <th>0</th>\n",
       "      <td>1419</td>\n",
       "      <td>2019-05-06</td>\n",
       "      <td>f</td>\n",
       "      <td>469</td>\n",
       "      <td>469</td>\n",
       "      <td>4.0</td>\n",
       "      <td>730.0</td>\n",
       "    </tr>\n",
       "    <tr>\n",
       "      <th>1</th>\n",
       "      <td>234500</td>\n",
       "      <td>2019-05-06</td>\n",
       "      <td>f</td>\n",
       "      <td>97</td>\n",
       "      <td>97</td>\n",
       "      <td>1.0</td>\n",
       "      <td>30.0</td>\n",
       "    </tr>\n",
       "    <tr>\n",
       "      <th>2</th>\n",
       "      <td>234500</td>\n",
       "      <td>2019-05-07</td>\n",
       "      <td>f</td>\n",
       "      <td>97</td>\n",
       "      <td>97</td>\n",
       "      <td>1.0</td>\n",
       "      <td>30.0</td>\n",
       "    </tr>\n",
       "    <tr>\n",
       "      <th>3</th>\n",
       "      <td>234500</td>\n",
       "      <td>2019-05-08</td>\n",
       "      <td>f</td>\n",
       "      <td>97</td>\n",
       "      <td>97</td>\n",
       "      <td>1.0</td>\n",
       "      <td>30.0</td>\n",
       "    </tr>\n",
       "    <tr>\n",
       "      <th>4</th>\n",
       "      <td>234500</td>\n",
       "      <td>2019-05-09</td>\n",
       "      <td>f</td>\n",
       "      <td>97</td>\n",
       "      <td>97</td>\n",
       "      <td>1.0</td>\n",
       "      <td>30.0</td>\n",
       "    </tr>\n",
       "  </tbody>\n",
       "</table>\n",
       "</div>"
      ],
      "text/plain": [
       "   listing_id       date available price adjusted_price  minimum_nights  \\\n",
       "0        1419 2019-05-06         f   469            469             4.0   \n",
       "1      234500 2019-05-06         f    97             97             1.0   \n",
       "2      234500 2019-05-07         f    97             97             1.0   \n",
       "3      234500 2019-05-08         f    97             97             1.0   \n",
       "4      234500 2019-05-09         f    97             97             1.0   \n",
       "\n",
       "   maximum_nights  \n",
       "0           730.0  \n",
       "1            30.0  \n",
       "2            30.0  \n",
       "3            30.0  \n",
       "4            30.0  "
      ]
     },
     "execution_count": 4,
     "metadata": {},
     "output_type": "execute_result"
    }
   ],
   "source": [
    "calender.head()"
   ]
  },
  {
   "cell_type": "code",
   "execution_count": 5,
   "metadata": {},
   "outputs": [
    {
     "data": {
      "text/plain": [
       "date\n",
       "2019-05-06    2802\n",
       "2019-05-07    2874\n",
       "2019-05-08    2874\n",
       "2019-05-09    2874\n",
       "2019-05-10    2874\n",
       "2019-05-11    2874\n",
       "2019-05-12    2874\n",
       "2019-05-13    2874\n",
       "2019-05-14    2874\n",
       "2019-05-15    2874\n",
       "2019-05-16    2874\n",
       "2019-05-17    2874\n",
       "2019-05-18    2874\n",
       "2019-05-19    2874\n",
       "2019-05-20    2874\n",
       "2019-05-21    2874\n",
       "2019-05-22    2874\n",
       "2019-05-23    2874\n",
       "2019-05-24    2874\n",
       "2019-05-25    2874\n",
       "2019-05-26    2874\n",
       "2019-05-27    2874\n",
       "2019-05-28    2874\n",
       "2019-05-29    2874\n",
       "2019-05-30    2874\n",
       "2019-05-31    2874\n",
       "2019-06-01    2874\n",
       "2019-06-02    2874\n",
       "2019-06-03    2874\n",
       "2019-06-04    2874\n",
       "              ... \n",
       "2020-04-06    2871\n",
       "2020-04-07    2871\n",
       "2020-04-08    2871\n",
       "2020-04-09    2871\n",
       "2020-04-10    2871\n",
       "2020-04-11    2871\n",
       "2020-04-12    2871\n",
       "2020-04-13    2871\n",
       "2020-04-14    2871\n",
       "2020-04-15    2871\n",
       "2020-04-16    2871\n",
       "2020-04-17    2871\n",
       "2020-04-18    2871\n",
       "2020-04-19    2871\n",
       "2020-04-20    2871\n",
       "2020-04-21    2871\n",
       "2020-04-22    2871\n",
       "2020-04-23    2871\n",
       "2020-04-24    2871\n",
       "2020-04-25    2871\n",
       "2020-04-26    2871\n",
       "2020-04-27    2871\n",
       "2020-04-28    2871\n",
       "2020-04-29    2871\n",
       "2020-04-30    2871\n",
       "2020-05-01    2871\n",
       "2020-05-02    2871\n",
       "2020-05-03    2871\n",
       "2020-05-04    2871\n",
       "2020-05-05     121\n",
       "Name: listing_id, Length: 366, dtype: int64"
      ]
     },
     "execution_count": 5,
     "metadata": {},
     "output_type": "execute_result"
    }
   ],
   "source": [
    "calender_summary = "
   ]
  },
  {
   "cell_type": "code",
   "execution_count": null,
   "metadata": {},
   "outputs": [],
   "source": []
  }
 ],
 "metadata": {
  "kernelspec": {
   "display_name": "Python 3",
   "language": "python",
   "name": "python3"
  },
  "language_info": {
   "codemirror_mode": {
    "name": "ipython",
    "version": 3
   },
   "file_extension": ".py",
   "mimetype": "text/x-python",
   "name": "python",
   "nbconvert_exporter": "python",
   "pygments_lexer": "ipython3",
   "version": "3.6.5"
  }
 },
 "nbformat": 4,
 "nbformat_minor": 2
}
